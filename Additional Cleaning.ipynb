{
 "cells": [
  {
   "cell_type": "code",
   "execution_count": 90,
   "metadata": {},
   "outputs": [],
   "source": [
    "import pandas as pd\n",
    "import os"
   ]
  },
  {
   "cell_type": "code",
   "execution_count": 91,
   "metadata": {},
   "outputs": [],
   "source": [
    "columns = ['State','District','Total','Hindu','Muslim','Christian','Sikh','Buddhist','Jain','Other/Unclassified','Unstated']\n",
    "df_final = pd.DataFrame(columns=columns)"
   ]
  },
  {
   "cell_type": "code",
   "execution_count": 92,
   "metadata": {},
   "outputs": [],
   "source": [
    "directory = os.fsencode('Clean Data')\n",
    "\n",
    "for file in os.listdir(directory):\n",
    "    filename = os.fsdecode(file)\n",
    "    file_actual = \"Clean Data\\\\\" + filename\n",
    "    filename = filename[:-4]\n",
    "    df = pd.read_csv(file_actual)\n",
    "    df.drop('Unnamed: 0',axis=1,inplace=True)\n",
    "    df.drop([0],inplace=True)\n",
    "    df['District'] = df['Entity'].apply(lambda x: str(x)[11:])\n",
    "    df['State'] = filename\n",
    "    df.drop('Entity',axis=1,inplace=True)\n",
    "    cols = list(df.columns.values)\n",
    "    cols = cols[-2:] + cols[:-2]\n",
    "    cols[0], cols[1] = cols[1], cols[0]\n",
    "    df = df[cols]\n",
    "    df_final = pd.concat([df_final,df])\n",
    "    \n",
    "df_final = df_final.reset_index(drop=True)"
   ]
  },
  {
   "cell_type": "code",
   "execution_count": 93,
   "metadata": {},
   "outputs": [],
   "source": [
    "# Resolving Telangana and Andhra Pradesh\n",
    "\n",
    "telangana_dist = ['Adilabad','Nizamabad','Karimnagar','Medak','Warangal','Khammam','Nalgonda','Mahbubnagar','Hyderabad']\n",
    "\n",
    "indices_list = []\n",
    "for dist in telangana_dist:\n",
    "    indices_list.append(df_final.index[df_final['District'] == dist].tolist()[0])\n",
    "    \n",
    "for index in indices_list:\n",
    "    df_final['State'].loc[index] = 'Telangana'"
   ]
  },
  {
   "cell_type": "code",
   "execution_count": 94,
   "metadata": {},
   "outputs": [],
   "source": [
    "df_final.to_csv('Final District Data.csv')"
   ]
  },
  {
   "cell_type": "code",
   "execution_count": 95,
   "metadata": {},
   "outputs": [],
   "source": [
    "df = pd.read_csv('India.csv')\n",
    "df.drop('Unnamed: 0',axis=1,inplace=True)\n",
    "df_india = pd.DataFrame(df.loc[0])\n",
    "df_india = df_india.transpose()\n",
    "cols = list(df_india.columns.values)\n",
    "cols[0] = 'Country'\n",
    "df_india.columns = cols\n",
    "df_india.to_csv('Final India Data.csv')"
   ]
  }
 ],
 "metadata": {
  "kernelspec": {
   "display_name": "Python 3",
   "language": "python",
   "name": "python3"
  },
  "language_info": {
   "codemirror_mode": {
    "name": "ipython",
    "version": 3
   },
   "file_extension": ".py",
   "mimetype": "text/x-python",
   "name": "python",
   "nbconvert_exporter": "python",
   "pygments_lexer": "ipython3",
   "version": "3.7.6"
  }
 },
 "nbformat": 4,
 "nbformat_minor": 4
}
