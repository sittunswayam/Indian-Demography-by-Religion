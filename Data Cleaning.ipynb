{
 "cells": [
  {
   "cell_type": "code",
   "execution_count": 2,
   "metadata": {},
   "outputs": [],
   "source": [
    "import pandas as pd\n",
    "import os"
   ]
  },
  {
   "cell_type": "code",
   "execution_count": 32,
   "metadata": {},
   "outputs": [],
   "source": [
    "directory = os.fsencode('Raw Data')\n",
    "\n",
    "for file in os.listdir(directory):\n",
    "    filename = os.fsdecode(file)\n",
    "    file_actual = \"Raw Data\\\\\" + filename\n",
    "    df = pd.read_excel(file_actual)\n",
    "    df.drop(df.columns[[0,1,2,3,4]],axis=1,inplace=True)\n",
    "    df.drop(df.index[[0,2,3,4,5]],inplace=True)\n",
    "    df = df[df['Unnamed: 6'] != 'Rural']\n",
    "    df = df[df['Unnamed: 6'] != 'Urban']\n",
    "    df.fillna('temp',inplace=True)\n",
    "    df.drop(df.columns[[1,3,4,6,7,9,10,12,13,15,16,18,19,21,22,24,25,27,28]],axis=1,inplace=True)\n",
    "    df.columns = ['Entity','Total','Hindu','Muslim','Christian','Sikh','Buddhist','Jain','Other/Unclassified','Unstated']\n",
    "    df.drop([1],inplace=True)\n",
    "    df1 = df[df['Entity'].astype(str).str.startswith('State')]\n",
    "    df2 = df[df['Entity'].astype(str).str.startswith('District')]\n",
    "    df3 = pd.concat([df1, df2])\n",
    "    df3 = df3.reset_index(drop=True)\n",
    "    filename = filename[:-4]\n",
    "    df3.to_csv('%s.csv' %filename)    "
   ]
  },
  {
   "cell_type": "code",
   "execution_count": 45,
   "metadata": {},
   "outputs": [],
   "source": [
    "df = pd.read_excel('India.XLS')"
   ]
  },
  {
   "cell_type": "code",
   "execution_count": 46,
   "metadata": {},
   "outputs": [],
   "source": [
    "df.drop(df.columns[[0,1,2,3,4]],axis=1,inplace=True)\n",
    "df.drop(df.index[[0,2,3,4,5]],inplace=True)\n",
    "df = df[df['Unnamed: 6'] != 'Rural']\n",
    "df = df[df['Unnamed: 6'] != 'Urban']\n",
    "df.fillna('temp',inplace=True)\n",
    "df.drop(df.columns[[1,3,4,6,7,9,10,12,13,15,16,18,19,21,22,24,25,27,28]],axis=1,inplace=True)\n",
    "df.columns = ['Entity','Total','Hindu','Muslim','Christian','Sikh','Buddhist','Jain','Other/Unclassified','Unstated']\n",
    "df.drop([1],inplace=True)\n",
    "df.to_csv('India.csv')"
   ]
  }
 ],
 "metadata": {
  "kernelspec": {
   "display_name": "Python 3",
   "language": "python",
   "name": "python3"
  },
  "language_info": {
   "codemirror_mode": {
    "name": "ipython",
    "version": 3
   },
   "file_extension": ".py",
   "mimetype": "text/x-python",
   "name": "python",
   "nbconvert_exporter": "python",
   "pygments_lexer": "ipython3",
   "version": "3.7.6"
  }
 },
 "nbformat": 4,
 "nbformat_minor": 4
}
